{
 "cells": [
  {
   "cell_type": "code",
   "execution_count": 1,
   "metadata": {
    "collapsed": true
   },
   "outputs": [],
   "source": [
    "import json\n",
    "import itertools\n",
    "from collections import defaultdict\n",
    "import pandas as pd\n",
    "\n",
    "prediction_path = \"../data/ori/prefinal_test.output.jsonlines\"\n",
    "\n"
   ]
  },
  {
   "cell_type": "code",
   "execution_count": 2,
   "metadata": {
    "collapsed": true
   },
   "outputs": [],
   "source": [
    "def get_predictions(file):\n",
    "    predictions=[]\n",
    "    for line in open(prediction_path, \"r\"):\n",
    "        predictions.append(json.loads(line))\n",
    "    return predictions\n",
    "\n"
   ]
  },
  {
   "cell_type": "code",
   "execution_count": 3,
   "metadata": {
    "collapsed": true
   },
   "outputs": [],
   "source": [
    "def get_clusters(predictions):\n",
    "    clusters = []\n",
    "    for js_pred in predictions:\n",
    "        flattened_sentence = list(itertools.chain.from_iterable(js_pred['sentences']))\n",
    "        file_clusters = []\n",
    "        for clu in js_pred['predicted_clusters']:\n",
    "            tmp_cluster = []\n",
    "            for ind in clu:\n",
    "                tmp_cluster.append(' '.join(flattened_sentence[ind[0]: ind[1]+1]))\n",
    "            file_clusters.append(tmp_cluster)\n",
    "        clusters.append(file_clusters)\n",
    "    return clusters"
   ]
  },
  {
   "cell_type": "code",
   "execution_count": 4,
   "metadata": {
    "collapsed": true
   },
   "outputs": [],
   "source": [
    "def save_strings(clusters, file_name):\n",
    "    with open(file_name, \"w\") as f:\n",
    "        for file_clus in clusters:\n",
    "            for clus in file_clus:\n",
    "                for clu in clus:\n",
    "                    f.write(clu + '\\n')"
   ]
  },
  {
   "cell_type": "code",
   "execution_count": 5,
   "metadata": {
    "collapsed": true
   },
   "outputs": [],
   "source": [
    "predictions = get_predictions(prediction_path)\n",
    "pred_clusters = get_clusters(predictions)\n",
    "save_strings(pred_clusters, \"e2e_ori_test_phrases_pretrain\")"
   ]
  },
  {
   "cell_type": "code",
   "execution_count": 6,
   "metadata": {},
   "outputs": [
    {
     "data": {
      "text/plain": [
       "348"
      ]
     },
     "execution_count": 6,
     "metadata": {},
     "output_type": "execute_result"
    }
   ],
   "source": [
    "len(pred_clusters)"
   ]
  },
  {
   "cell_type": "code",
   "execution_count": 8,
   "metadata": {},
   "outputs": [],
   "source": [
    "#utils\n",
    "data_path = '/zf2/jz4fu/Github/gender_coreference/data'\n",
    "professions = set()\n",
    "with open(data_path + \"/jobs\", 'r') as f:\n",
    "    for line in f:\n",
    "        words = line.strip().split(\" \")\n",
    "        if len(words) > 1:\n",
    "            continue\n",
    "        professions.add(line.strip().lower())\n",
    "M = ['he', 'his']\n",
    "F = ['she', 'her']\n",
    "\n",
    "def get_gold_head(gold_file): \n",
    "    \"\"\"return {phrase: head}\"\"\"\n",
    "    gold_head = {}\n",
    "    with open(gold_file, \"r\") as f:\n",
    "        for line in f.readlines():\n",
    "            words = line.strip().split(\" :: \")\n",
    "            gold_head[words[0]] = words[1]\n",
    "    return gold_head\n",
    "\n",
    "def get_prof_count(res_strings, gold_head, single):\n",
    "    \"\"\"for conll format output,\n",
    "    return {prof_title:[#man,#woman]}\"\"\"\n",
    "    gender_count = [0,0]\n",
    "    flag = [0,0]\n",
    "    prof_count = defaultdict(lambda: [0,0])\n",
    "    if single == 1:\n",
    "        res_strings = [res_strings]\n",
    "    for file_res in res_strings: \n",
    "        for part_res in file_res:\n",
    "            for val in part_res:\n",
    "                flag = [0,0]\n",
    "                clu = []\n",
    "                for strings in part_res[val]:\n",
    "                    clu.append(gold_head[strings])\n",
    "                for prof in professions:\n",
    "                    if prof in clu:\n",
    "                        for m in M:\n",
    "                            if m in clu:\n",
    "                                prof_count[prof][0] += 1\n",
    "                                flag[0] = 1\n",
    "                                break\n",
    "\n",
    "                        for f in F:\n",
    "                            if f in clu:\n",
    "                                flag[1] = 1\n",
    "                                prof_count[prof][1] += 1\n",
    "                                break\n",
    "\n",
    "                if flag[0] == 1:\n",
    "                    gender_count[0] += 1\n",
    "                if flag[1] == 1:\n",
    "                    gender_count[1] += 1\n",
    "    return prof_count, gender_count\n",
    "\n",
    "def get_prof_count(res_strings, gold_head):\n",
    "    \"\"\"for uw e2e output,\n",
    "    return {prof_title:[#man,#woman]}\"\"\"\n",
    "    gender_count = [0,0]\n",
    "    flag = [0,0]\n",
    "    prof_count = defaultdict(lambda: [0,0])\n",
    "    for file_res in res_strings: \n",
    "        for part_res in file_res:\n",
    "            clu = []\n",
    "            for strings in part_res:\n",
    "                flag = [0,0]\n",
    "                clu.append(gold_head[strings])\n",
    "            for prof in professions:\n",
    "                if prof in clu:\n",
    "                    for m in M:\n",
    "                        if m in clu:\n",
    "                            prof_count[prof][0] += 1\n",
    "                            flag[0] = 1\n",
    "                            break\n",
    "\n",
    "                    for f in F:\n",
    "                        if f in clu:\n",
    "                            flag[1] = 1\n",
    "                            prof_count[prof][1] += 1\n",
    "                            break\n",
    "\n",
    "            if flag[0] == 1:\n",
    "                    gender_count[0] += 1\n",
    "            if flag[1] == 1:\n",
    "                    gender_count[1] += 1\n",
    "    return prof_count, gender_count\n",
    "\n",
    "def to_df(prof_count, filename):\n",
    "    count_df = pd.DataFrame.from_dict(prof_count, orient = 'index')\n",
    "    count_df.reset_index(inplace = True)\n",
    "    count_df.columns = ['title', '#man', '#woman']\n",
    "    count_df['gender_ratio'] = count_df['#man'] /(count_df['#man'] + count_df['#woman'])\n",
    "    count_df.to_csv(filename, index = False)\n",
    "    return count_df"
   ]
  },
  {
   "cell_type": "code",
   "execution_count": 10,
   "metadata": {},
   "outputs": [
    {
     "ename": "IOError",
     "evalue": "[Errno 2] No such file or directory: '/zf2/jz4fu/Github/headFinder/e2e_ori_test_heads'",
     "output_type": "error",
     "traceback": [
      "\u001b[0;31m---------------------------------------------------------------------------\u001b[0m",
      "\u001b[0;31mIOError\u001b[0m                                   Traceback (most recent call last)",
      "\u001b[0;32m<ipython-input-10-1d5c1a7cece7>\u001b[0m in \u001b[0;36m<module>\u001b[0;34m()\u001b[0m\n\u001b[0;32m----> 1\u001b[0;31m \u001b[0mgold_head\u001b[0m \u001b[0;34m=\u001b[0m \u001b[0mget_gold_head\u001b[0m\u001b[0;34m(\u001b[0m\u001b[0;34m\"/zf2/jz4fu/Github/headFinder/e2e_ori_test_heads\"\u001b[0m\u001b[0;34m)\u001b[0m\u001b[0;34m\u001b[0m\u001b[0m\n\u001b[0m\u001b[1;32m      2\u001b[0m \u001b[0mprof_count\u001b[0m\u001b[0;34m,\u001b[0m \u001b[0mgender_count\u001b[0m \u001b[0;34m=\u001b[0m \u001b[0mget_prof_count\u001b[0m\u001b[0;34m(\u001b[0m\u001b[0mpred_clusters\u001b[0m\u001b[0;34m,\u001b[0m \u001b[0mgold_head\u001b[0m\u001b[0;34m)\u001b[0m\u001b[0;34m\u001b[0m\u001b[0m\n\u001b[1;32m      3\u001b[0m \u001b[0mcount_df\u001b[0m \u001b[0;34m=\u001b[0m \u001b[0mto_df\u001b[0m\u001b[0;34m(\u001b[0m\u001b[0mprof_count\u001b[0m\u001b[0;34m,\u001b[0m \u001b[0;34m\"e2e_ori_test_prof_count_pretrain\"\u001b[0m\u001b[0;34m)\u001b[0m\u001b[0;34m\u001b[0m\u001b[0m\n\u001b[1;32m      4\u001b[0m \u001b[0mcount_df\u001b[0m\u001b[0;34m.\u001b[0m\u001b[0msum\u001b[0m\u001b[0;34m(\u001b[0m\u001b[0;34m)\u001b[0m\u001b[0;34m\u001b[0m\u001b[0m\n",
      "\u001b[0;32m<ipython-input-8-00ae18997112>\u001b[0m in \u001b[0;36mget_gold_head\u001b[0;34m(gold_file)\u001b[0m\n\u001b[1;32m     14\u001b[0m     \u001b[0;34m\"\"\"return {phrase: head}\"\"\"\u001b[0m\u001b[0;34m\u001b[0m\u001b[0m\n\u001b[1;32m     15\u001b[0m     \u001b[0mgold_head\u001b[0m \u001b[0;34m=\u001b[0m \u001b[0;34m{\u001b[0m\u001b[0;34m}\u001b[0m\u001b[0;34m\u001b[0m\u001b[0m\n\u001b[0;32m---> 16\u001b[0;31m     \u001b[0;32mwith\u001b[0m \u001b[0mopen\u001b[0m\u001b[0;34m(\u001b[0m\u001b[0mgold_file\u001b[0m\u001b[0;34m,\u001b[0m \u001b[0;34m\"r\"\u001b[0m\u001b[0;34m)\u001b[0m \u001b[0;32mas\u001b[0m \u001b[0mf\u001b[0m\u001b[0;34m:\u001b[0m\u001b[0;34m\u001b[0m\u001b[0m\n\u001b[0m\u001b[1;32m     17\u001b[0m         \u001b[0;32mfor\u001b[0m \u001b[0mline\u001b[0m \u001b[0;32min\u001b[0m \u001b[0mf\u001b[0m\u001b[0;34m.\u001b[0m\u001b[0mreadlines\u001b[0m\u001b[0;34m(\u001b[0m\u001b[0;34m)\u001b[0m\u001b[0;34m:\u001b[0m\u001b[0;34m\u001b[0m\u001b[0m\n\u001b[1;32m     18\u001b[0m             \u001b[0mwords\u001b[0m \u001b[0;34m=\u001b[0m \u001b[0mline\u001b[0m\u001b[0;34m.\u001b[0m\u001b[0mstrip\u001b[0m\u001b[0;34m(\u001b[0m\u001b[0;34m)\u001b[0m\u001b[0;34m.\u001b[0m\u001b[0msplit\u001b[0m\u001b[0;34m(\u001b[0m\u001b[0;34m\" :: \"\u001b[0m\u001b[0;34m)\u001b[0m\u001b[0;34m\u001b[0m\u001b[0m\n",
      "\u001b[0;31mIOError\u001b[0m: [Errno 2] No such file or directory: '/zf2/jz4fu/Github/headFinder/e2e_ori_test_heads'"
     ]
    }
   ],
   "source": [
    "gold_head = get_gold_head(\"/zf2/jz4fu/Github/headFinder/e2e_ori_test_heads\")\n",
    "prof_count, gender_count = get_prof_count(pred_clusters, gold_head)\n",
    "count_df = to_df(prof_count, \"e2e_ori_test_prof_count_pretrain\")\n",
    "count_df.sum()"
   ]
  },
  {
   "cell_type": "code",
   "execution_count": null,
   "metadata": {
    "collapsed": true
   },
   "outputs": [],
   "source": []
  }
 ],
 "metadata": {
  "kernelspec": {
   "display_name": "Python 2",
   "language": "python",
   "name": "python2"
  },
  "language_info": {
   "codemirror_mode": {
    "name": "ipython",
    "version": 2
   },
   "file_extension": ".py",
   "mimetype": "text/x-python",
   "name": "python",
   "nbconvert_exporter": "python",
   "pygments_lexer": "ipython2",
   "version": "2.7.13"
  }
 },
 "nbformat": 4,
 "nbformat_minor": 2
}
