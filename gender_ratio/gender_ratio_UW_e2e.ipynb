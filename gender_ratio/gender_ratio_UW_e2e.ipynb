{
 "cells": [
  {
   "cell_type": "code",
   "execution_count": 9,
   "metadata": {
    "collapsed": true
   },
   "outputs": [],
   "source": [
    "import json\n",
    "import itertools\n",
    "from collections import defaultdict\n",
    "import pandas as pd\n",
    "\n",
    "prediction_path = \"../data/reversed_gender/prefinal_test.output.jsonlines\"\n",
    "\n"
   ]
  },
  {
   "cell_type": "code",
   "execution_count": 10,
   "metadata": {
    "collapsed": true
   },
   "outputs": [],
   "source": [
    "def get_predictions(file):\n",
    "    predictions=[]\n",
    "    for line in open(prediction_path, \"r\"):\n",
    "        predictions.append(json.loads(line))\n",
    "    return predictions\n",
    "\n"
   ]
  },
  {
   "cell_type": "code",
   "execution_count": 11,
   "metadata": {
    "collapsed": true
   },
   "outputs": [],
   "source": [
    "def get_clusters(predictions):\n",
    "    clusters = []\n",
    "    for js_pred in predictions:\n",
    "        flattened_sentence = list(itertools.chain.from_iterable(js_pred['sentences']))\n",
    "        file_clusters = []\n",
    "        for clu in js_pred['predicted_clusters']:\n",
    "            tmp_cluster = []\n",
    "            for ind in clu:\n",
    "                tmp_cluster.append(' '.join(flattened_sentence[ind[0]: ind[1]+1]))\n",
    "            file_clusters.append(tmp_cluster)\n",
    "        clusters.append(file_clusters)\n",
    "    return clusters"
   ]
  },
  {
   "cell_type": "code",
   "execution_count": 12,
   "metadata": {
    "collapsed": true
   },
   "outputs": [],
   "source": [
    "def save_strings(clusters, file_name):\n",
    "    with open(file_name, \"w\") as f:\n",
    "        for file_clus in clusters:\n",
    "            for clus in file_clus:\n",
    "                for clu in clus:\n",
    "                    f.write(clu + '\\n')"
   ]
  },
  {
   "cell_type": "code",
   "execution_count": 13,
   "metadata": {},
   "outputs": [],
   "source": [
    "predictions = get_predictions(prediction_path)\n",
    "pred_clusters = get_clusters(predictions)\n",
    "save_strings(pred_clusters, \"e2e_reversed_test_phrases_pretrain\")"
   ]
  },
  {
   "cell_type": "code",
   "execution_count": 14,
   "metadata": {},
   "outputs": [
    {
     "data": {
      "text/plain": [
       "348"
      ]
     },
     "execution_count": 14,
     "metadata": {},
     "output_type": "execute_result"
    }
   ],
   "source": [
    "len(pred_clusters)"
   ]
  },
  {
   "cell_type": "code",
   "execution_count": 15,
   "metadata": {
    "collapsed": true
   },
   "outputs": [],
   "source": [
    "#utils\n",
    "data_path = '/zf2/jz4fu/Github/gender_coreference/data'\n",
    "professions = set()\n",
    "with open(data_path + \"/jobs\", 'r') as f:\n",
    "    for line in f:\n",
    "        words = line.strip().split(\" \")\n",
    "        if len(words) > 1:\n",
    "            continue\n",
    "        professions.add(line.strip().lower())\n",
    "M = ['he', 'his']\n",
    "F = ['she', 'her']\n",
    "\n",
    "def get_gold_head(gold_file): \n",
    "    \"\"\"return {phrase: head}\"\"\"\n",
    "    gold_head = {}\n",
    "    with open(gold_file, \"r\") as f:\n",
    "        for line in f.readlines():\n",
    "            words = line.strip().split(\" :: \")\n",
    "            gold_head[words[0]] = words[1]\n",
    "    return gold_head\n",
    "\n",
    "def get_prof_count(res_strings, gold_head, single):\n",
    "    \"\"\"for conll format output,\n",
    "    return {prof_title:[#man,#woman]}\"\"\"\n",
    "    gender_count = [0,0]\n",
    "    flag = [0,0]\n",
    "    prof_count = defaultdict(lambda: [0,0])\n",
    "    if single == 1:\n",
    "        res_strings = [res_strings]\n",
    "    for file_res in res_strings: \n",
    "        for part_res in file_res:\n",
    "            for val in part_res:\n",
    "                flag = [0,0]\n",
    "                clu = []\n",
    "                for strings in part_res[val]:\n",
    "                    clu.append(gold_head[strings])\n",
    "                for prof in professions:\n",
    "                    if prof in clu:\n",
    "                        for m in M:\n",
    "                            if m in clu:\n",
    "                                prof_count[prof][0] += 1\n",
    "                                flag[0] = 1\n",
    "                                break\n",
    "\n",
    "                        for f in F:\n",
    "                            if f in clu:\n",
    "                                flag[1] = 1\n",
    "                                prof_count[prof][1] += 1\n",
    "                                break\n",
    "\n",
    "                if flag[0] == 1:\n",
    "                    gender_count[0] += 1\n",
    "                if flag[1] == 1:\n",
    "                    gender_count[1] += 1\n",
    "    return prof_count, gender_count\n",
    "\n",
    "def get_prof_count(res_strings, gold_head):\n",
    "    \"\"\"for uw e2e output,\n",
    "    return {prof_title:[#man,#woman]}\"\"\"\n",
    "    gender_count = [0,0]\n",
    "    flag = [0,0]\n",
    "    prof_count = defaultdict(lambda: [0,0])\n",
    "    for file_res in res_strings: \n",
    "        for part_res in file_res:\n",
    "            clu = []\n",
    "            for strings in part_res:\n",
    "                flag = [0,0]\n",
    "                clu.append(gold_head[strings])\n",
    "            for prof in professions:\n",
    "                if prof in clu:\n",
    "                    for m in M:\n",
    "                        if m in clu:\n",
    "                            prof_count[prof][0] += 1\n",
    "                            flag[0] = 1\n",
    "                            break\n",
    "\n",
    "                    for f in F:\n",
    "                        if f in clu:\n",
    "                            flag[1] = 1\n",
    "                            prof_count[prof][1] += 1\n",
    "                            break\n",
    "\n",
    "            if flag[0] == 1:\n",
    "                    gender_count[0] += 1\n",
    "            if flag[1] == 1:\n",
    "                    gender_count[1] += 1\n",
    "    return prof_count, gender_count\n",
    "\n",
    "def to_df(prof_count, filename):\n",
    "    count_df = pd.DataFrame.from_dict(prof_count, orient = 'index')\n",
    "    count_df.reset_index(inplace = True)\n",
    "    count_df.columns = ['title', '#man', '#woman']\n",
    "    count_df['gender_ratio'] = count_df['#man'] /(count_df['#man'] + count_df['#woman'])\n",
    "    count_df.to_csv(filename, index = False)\n",
    "    return count_df"
   ]
  },
  {
   "cell_type": "code",
   "execution_count": 16,
   "metadata": {},
   "outputs": [
    {
     "data": {
      "text/plain": [
       "title           aidebosslawyerdirectorfathermothercowboyoffici...\n",
       "#man                                                           18\n",
       "#woman                                                         25\n",
       "gender_ratio                                              9.16667\n",
       "dtype: object"
      ]
     },
     "execution_count": 16,
     "metadata": {},
     "output_type": "execute_result"
    }
   ],
   "source": [
    "gold_head = get_gold_head(\"/zf2/jz4fu/Github/headFinder/e2e_reversed_test_heads_pretrain\")\n",
    "prof_count, gender_count = get_prof_count(pred_clusters, gold_head)\n",
    "count_df = to_df(prof_count, \"e2e_reversed_test_prof_count_pretrain\")\n",
    "count_df.sum()"
   ]
  },
  {
   "cell_type": "code",
   "execution_count": null,
   "metadata": {
    "collapsed": true
   },
   "outputs": [],
   "source": []
  }
 ],
 "metadata": {
  "kernelspec": {
   "display_name": "Python 3",
   "language": "python",
   "name": "python3"
  },
  "language_info": {
   "codemirror_mode": {
    "name": "ipython",
    "version": 3
   },
   "file_extension": ".py",
   "mimetype": "text/x-python",
   "name": "python",
   "nbconvert_exporter": "python",
   "pygments_lexer": "ipython3",
   "version": "3.6.1"
  }
 },
 "nbformat": 4,
 "nbformat_minor": 2
}
